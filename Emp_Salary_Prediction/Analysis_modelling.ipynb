{
 "cells": [
  {
   "cell_type": "code",
   "execution_count": 142,
   "id": "39113a29",
   "metadata": {},
   "outputs": [],
   "source": [
    "import pandas as pd\n",
    "import matplotlib.pyplot as plt\n",
    "import seaborn as sns"
   ]
  },
  {
   "cell_type": "code",
   "execution_count": 143,
   "id": "f0ab86fb",
   "metadata": {},
   "outputs": [],
   "source": [
    "data = pd.read_excel(\"Employees.xlsx\")"
   ]
  },
  {
   "cell_type": "code",
   "execution_count": 144,
   "id": "388eb0a9",
   "metadata": {},
   "outputs": [
    {
     "data": {
      "text/html": [
       "<div>\n",
       "<style scoped>\n",
       "    .dataframe tbody tr th:only-of-type {\n",
       "        vertical-align: middle;\n",
       "    }\n",
       "\n",
       "    .dataframe tbody tr th {\n",
       "        vertical-align: top;\n",
       "    }\n",
       "\n",
       "    .dataframe thead th {\n",
       "        text-align: right;\n",
       "    }\n",
       "</style>\n",
       "<table border=\"1\" class=\"dataframe\">\n",
       "  <thead>\n",
       "    <tr style=\"text-align: right;\">\n",
       "      <th></th>\n",
       "      <th>No</th>\n",
       "      <th>First Name</th>\n",
       "      <th>Last Name</th>\n",
       "      <th>Gender</th>\n",
       "      <th>Start Date</th>\n",
       "      <th>Years</th>\n",
       "      <th>Department</th>\n",
       "      <th>Country</th>\n",
       "      <th>Center</th>\n",
       "      <th>Monthly Salary</th>\n",
       "      <th>Annual Salary</th>\n",
       "      <th>Job Rate</th>\n",
       "      <th>Sick Leaves</th>\n",
       "      <th>Unpaid Leaves</th>\n",
       "      <th>Overtime Hours</th>\n",
       "    </tr>\n",
       "  </thead>\n",
       "  <tbody>\n",
       "    <tr>\n",
       "      <th>0</th>\n",
       "      <td>1</td>\n",
       "      <td>Ghadir</td>\n",
       "      <td>Hmshw</td>\n",
       "      <td>Male</td>\n",
       "      <td>43194</td>\n",
       "      <td>7</td>\n",
       "      <td>Quality Control</td>\n",
       "      <td>Egypt</td>\n",
       "      <td>West</td>\n",
       "      <td>1560</td>\n",
       "      <td>18720</td>\n",
       "      <td>3.0</td>\n",
       "      <td>1</td>\n",
       "      <td>0</td>\n",
       "      <td>183</td>\n",
       "    </tr>\n",
       "    <tr>\n",
       "      <th>1</th>\n",
       "      <td>2</td>\n",
       "      <td>Omar</td>\n",
       "      <td>Hishan</td>\n",
       "      <td>Male</td>\n",
       "      <td>43972</td>\n",
       "      <td>5</td>\n",
       "      <td>Quality Control</td>\n",
       "      <td>Saudi Arabia</td>\n",
       "      <td>West</td>\n",
       "      <td>3247</td>\n",
       "      <td>38964</td>\n",
       "      <td>1.0</td>\n",
       "      <td>0</td>\n",
       "      <td>5</td>\n",
       "      <td>198</td>\n",
       "    </tr>\n",
       "    <tr>\n",
       "      <th>2</th>\n",
       "      <td>3</td>\n",
       "      <td>Ailya</td>\n",
       "      <td>Sharaf</td>\n",
       "      <td>Female</td>\n",
       "      <td>43006</td>\n",
       "      <td>7</td>\n",
       "      <td>Major Mfg Projects</td>\n",
       "      <td>Saudi Arabia</td>\n",
       "      <td>West</td>\n",
       "      <td>2506</td>\n",
       "      <td>30072</td>\n",
       "      <td>2.0</td>\n",
       "      <td>0</td>\n",
       "      <td>3</td>\n",
       "      <td>192</td>\n",
       "    </tr>\n",
       "    <tr>\n",
       "      <th>3</th>\n",
       "      <td>4</td>\n",
       "      <td>Lwiy</td>\n",
       "      <td>Qbany</td>\n",
       "      <td>Male</td>\n",
       "      <td>43326</td>\n",
       "      <td>6</td>\n",
       "      <td>Manufacturing</td>\n",
       "      <td>United Arab Emirates</td>\n",
       "      <td>Main</td>\n",
       "      <td>1828</td>\n",
       "      <td>21936</td>\n",
       "      <td>3.0</td>\n",
       "      <td>0</td>\n",
       "      <td>0</td>\n",
       "      <td>7</td>\n",
       "    </tr>\n",
       "    <tr>\n",
       "      <th>4</th>\n",
       "      <td>5</td>\n",
       "      <td>Ahmad</td>\n",
       "      <td>Bikri</td>\n",
       "      <td>Male</td>\n",
       "      <td>43901</td>\n",
       "      <td>5</td>\n",
       "      <td>Manufacturing</td>\n",
       "      <td>Egypt</td>\n",
       "      <td>Main</td>\n",
       "      <td>970</td>\n",
       "      <td>11640</td>\n",
       "      <td>5.0</td>\n",
       "      <td>0</td>\n",
       "      <td>5</td>\n",
       "      <td>121</td>\n",
       "    </tr>\n",
       "  </tbody>\n",
       "</table>\n",
       "</div>"
      ],
      "text/plain": [
       "   No First Name Last Name  Gender  Start Date  Years          Department  \\\n",
       "0   1     Ghadir     Hmshw    Male       43194      7     Quality Control   \n",
       "1   2       Omar    Hishan    Male       43972      5     Quality Control   \n",
       "2   3      Ailya    Sharaf  Female       43006      7  Major Mfg Projects   \n",
       "3   4       Lwiy     Qbany    Male       43326      6       Manufacturing   \n",
       "4   5      Ahmad     Bikri    Male       43901      5       Manufacturing   \n",
       "\n",
       "                Country Center  Monthly Salary  Annual Salary  Job Rate  \\\n",
       "0                 Egypt   West            1560          18720       3.0   \n",
       "1          Saudi Arabia   West            3247          38964       1.0   \n",
       "2          Saudi Arabia   West            2506          30072       2.0   \n",
       "3  United Arab Emirates   Main            1828          21936       3.0   \n",
       "4                 Egypt   Main             970          11640       5.0   \n",
       "\n",
       "   Sick Leaves  Unpaid Leaves  Overtime Hours  \n",
       "0            1              0             183  \n",
       "1            0              5             198  \n",
       "2            0              3             192  \n",
       "3            0              0               7  \n",
       "4            0              5             121  "
      ]
     },
     "execution_count": 144,
     "metadata": {},
     "output_type": "execute_result"
    }
   ],
   "source": [
    "data.head()"
   ]
  },
  {
   "cell_type": "code",
   "execution_count": 145,
   "id": "fb645f1c",
   "metadata": {},
   "outputs": [
    {
     "data": {
      "text/plain": [
       "No                  int64\n",
       "First Name         object\n",
       "Last Name          object\n",
       "Gender             object\n",
       "Start Date          int64\n",
       "Years               int64\n",
       "Department         object\n",
       "Country            object\n",
       "Center             object\n",
       "Monthly Salary      int64\n",
       "Annual Salary       int64\n",
       "Job Rate          float64\n",
       "Sick Leaves         int64\n",
       "Unpaid Leaves       int64\n",
       "Overtime Hours      int64\n",
       "dtype: object"
      ]
     },
     "execution_count": 145,
     "metadata": {},
     "output_type": "execute_result"
    }
   ],
   "source": [
    "data.dtypes"
   ]
  },
  {
   "cell_type": "code",
   "execution_count": 146,
   "id": "3172ae03",
   "metadata": {},
   "outputs": [
    {
     "name": "stdout",
     "output_type": "stream",
     "text": [
      "<class 'pandas.core.frame.DataFrame'>\n",
      "RangeIndex: 689 entries, 0 to 688\n",
      "Data columns (total 15 columns):\n",
      " #   Column          Non-Null Count  Dtype  \n",
      "---  ------          --------------  -----  \n",
      " 0   No              689 non-null    int64  \n",
      " 1   First Name      689 non-null    object \n",
      " 2   Last Name       689 non-null    object \n",
      " 3   Gender          689 non-null    object \n",
      " 4   Start Date      689 non-null    int64  \n",
      " 5   Years           689 non-null    int64  \n",
      " 6   Department      689 non-null    object \n",
      " 7   Country         689 non-null    object \n",
      " 8   Center          689 non-null    object \n",
      " 9   Monthly Salary  689 non-null    int64  \n",
      " 10  Annual Salary   689 non-null    int64  \n",
      " 11  Job Rate        689 non-null    float64\n",
      " 12  Sick Leaves     689 non-null    int64  \n",
      " 13  Unpaid Leaves   689 non-null    int64  \n",
      " 14  Overtime Hours  689 non-null    int64  \n",
      "dtypes: float64(1), int64(8), object(6)\n",
      "memory usage: 80.9+ KB\n"
     ]
    }
   ],
   "source": [
    "data.info()       #show all entities or column "
   ]
  },
  {
   "cell_type": "code",
   "execution_count": 147,
   "id": "c6cc9552",
   "metadata": {},
   "outputs": [
    {
     "data": {
      "text/plain": [
       "(689, 15)"
      ]
     },
     "execution_count": 147,
     "metadata": {},
     "output_type": "execute_result"
    }
   ],
   "source": [
    "data.shape     #for rows count and column count"
   ]
  },
  {
   "cell_type": "code",
   "execution_count": 148,
   "id": "1ac0408e",
   "metadata": {},
   "outputs": [
    {
     "data": {
      "text/plain": [
       "No                0\n",
       "First Name        0\n",
       "Last Name         0\n",
       "Gender            0\n",
       "Start Date        0\n",
       "Years             0\n",
       "Department        0\n",
       "Country           0\n",
       "Center            0\n",
       "Monthly Salary    0\n",
       "Annual Salary     0\n",
       "Job Rate          0\n",
       "Sick Leaves       0\n",
       "Unpaid Leaves     0\n",
       "Overtime Hours    0\n",
       "dtype: int64"
      ]
     },
     "execution_count": 148,
     "metadata": {},
     "output_type": "execute_result"
    }
   ],
   "source": [
    "data.isna().sum()   #return the count sum of NA values / also from here data cleaning starts"
   ]
  },
  {
   "cell_type": "code",
   "execution_count": 149,
   "id": "98d8c6c2",
   "metadata": {},
   "outputs": [],
   "source": [
    "#data.dropna(inplace=True) for dropping NA values in the dataset\n",
    "#inplace = means remove the value or na from the dataset itself no need to create a separate data frame"
   ]
  },
  {
   "cell_type": "code",
   "execution_count": 150,
   "id": "9119383a",
   "metadata": {},
   "outputs": [
    {
     "data": {
      "text/plain": [
       "np.int64(0)"
      ]
     },
     "execution_count": 150,
     "metadata": {},
     "output_type": "execute_result"
    }
   ],
   "source": [
    "data.duplicated().sum()      #if two rows are full same then we can identify them duplicate "
   ]
  },
  {
   "cell_type": "code",
   "execution_count": 151,
   "id": "a985c3d1",
   "metadata": {},
   "outputs": [],
   "source": [
    "#data.drop_duplicates(inplace = True) for dropping duplicates  or use data.drop_duplicates(keep=\"first\")"
   ]
  },
  {
   "cell_type": "code",
   "execution_count": null,
   "id": "22925648",
   "metadata": {},
   "outputs": [],
   "source": [
    "# Remove multiple columns\n",
    "data = data.drop(columns=[\"No\", \"First Name\", \"Last Name\", \"Start Date\"])"
   ]
  },
  {
   "cell_type": "code",
   "execution_count": 202,
   "id": "7af14067",
   "metadata": {},
   "outputs": [],
   "source": [
    "#rename the column \n",
    "data = data.rename(columns={\"Years\": \"Experience Years\"})"
   ]
  },
  {
   "cell_type": "code",
   "execution_count": 203,
   "id": "72c633c8",
   "metadata": {},
   "outputs": [
    {
     "data": {
      "text/html": [
       "<div>\n",
       "<style scoped>\n",
       "    .dataframe tbody tr th:only-of-type {\n",
       "        vertical-align: middle;\n",
       "    }\n",
       "\n",
       "    .dataframe tbody tr th {\n",
       "        vertical-align: top;\n",
       "    }\n",
       "\n",
       "    .dataframe thead th {\n",
       "        text-align: right;\n",
       "    }\n",
       "</style>\n",
       "<table border=\"1\" class=\"dataframe\">\n",
       "  <thead>\n",
       "    <tr style=\"text-align: right;\">\n",
       "      <th></th>\n",
       "      <th>Gender</th>\n",
       "      <th>Experience Years</th>\n",
       "      <th>Department</th>\n",
       "      <th>Country</th>\n",
       "      <th>Center</th>\n",
       "      <th>Monthly Salary</th>\n",
       "      <th>Annual Salary</th>\n",
       "      <th>Job Rate</th>\n",
       "      <th>Sick Leaves</th>\n",
       "      <th>Unpaid Leaves</th>\n",
       "      <th>Overtime Hours</th>\n",
       "      <th>Gender_Encode</th>\n",
       "      <th>Department_Encode</th>\n",
       "      <th>Country_Encode</th>\n",
       "      <th>Center_Encode</th>\n",
       "      <th>Job_Rate_Scaled</th>\n",
       "      <th>Department_Scaled</th>\n",
       "    </tr>\n",
       "  </thead>\n",
       "  <tbody>\n",
       "    <tr>\n",
       "      <th>0</th>\n",
       "      <td>Male</td>\n",
       "      <td>7</td>\n",
       "      <td>Quality Control</td>\n",
       "      <td>Egypt</td>\n",
       "      <td>West</td>\n",
       "      <td>1560</td>\n",
       "      <td>18720</td>\n",
       "      <td>3.0</td>\n",
       "      <td>1</td>\n",
       "      <td>0</td>\n",
       "      <td>183</td>\n",
       "      <td>1</td>\n",
       "      <td>15</td>\n",
       "      <td>0</td>\n",
       "      <td>4</td>\n",
       "      <td>-0.434614</td>\n",
       "      <td>1.092952</td>\n",
       "    </tr>\n",
       "    <tr>\n",
       "      <th>1</th>\n",
       "      <td>Male</td>\n",
       "      <td>5</td>\n",
       "      <td>Quality Control</td>\n",
       "      <td>Saudi Arabia</td>\n",
       "      <td>West</td>\n",
       "      <td>3247</td>\n",
       "      <td>38964</td>\n",
       "      <td>1.0</td>\n",
       "      <td>0</td>\n",
       "      <td>5</td>\n",
       "      <td>198</td>\n",
       "      <td>1</td>\n",
       "      <td>15</td>\n",
       "      <td>2</td>\n",
       "      <td>4</td>\n",
       "      <td>-1.917035</td>\n",
       "      <td>1.092952</td>\n",
       "    </tr>\n",
       "    <tr>\n",
       "      <th>2</th>\n",
       "      <td>Female</td>\n",
       "      <td>7</td>\n",
       "      <td>Major Mfg Projects</td>\n",
       "      <td>Saudi Arabia</td>\n",
       "      <td>West</td>\n",
       "      <td>2506</td>\n",
       "      <td>30072</td>\n",
       "      <td>2.0</td>\n",
       "      <td>0</td>\n",
       "      <td>3</td>\n",
       "      <td>192</td>\n",
       "      <td>0</td>\n",
       "      <td>8</td>\n",
       "      <td>2</td>\n",
       "      <td>4</td>\n",
       "      <td>-1.175824</td>\n",
       "      <td>-0.200620</td>\n",
       "    </tr>\n",
       "    <tr>\n",
       "      <th>3</th>\n",
       "      <td>Male</td>\n",
       "      <td>6</td>\n",
       "      <td>Manufacturing</td>\n",
       "      <td>United Arab Emirates</td>\n",
       "      <td>Main</td>\n",
       "      <td>1828</td>\n",
       "      <td>21936</td>\n",
       "      <td>3.0</td>\n",
       "      <td>0</td>\n",
       "      <td>0</td>\n",
       "      <td>7</td>\n",
       "      <td>1</td>\n",
       "      <td>9</td>\n",
       "      <td>4</td>\n",
       "      <td>1</td>\n",
       "      <td>-0.434614</td>\n",
       "      <td>-0.015824</td>\n",
       "    </tr>\n",
       "    <tr>\n",
       "      <th>4</th>\n",
       "      <td>Male</td>\n",
       "      <td>5</td>\n",
       "      <td>Manufacturing</td>\n",
       "      <td>Egypt</td>\n",
       "      <td>Main</td>\n",
       "      <td>970</td>\n",
       "      <td>11640</td>\n",
       "      <td>5.0</td>\n",
       "      <td>0</td>\n",
       "      <td>5</td>\n",
       "      <td>121</td>\n",
       "      <td>1</td>\n",
       "      <td>9</td>\n",
       "      <td>0</td>\n",
       "      <td>1</td>\n",
       "      <td>1.047807</td>\n",
       "      <td>-0.015824</td>\n",
       "    </tr>\n",
       "  </tbody>\n",
       "</table>\n",
       "</div>"
      ],
      "text/plain": [
       "   Gender  Experience Years          Department               Country Center  \\\n",
       "0    Male                 7     Quality Control                 Egypt   West   \n",
       "1    Male                 5     Quality Control          Saudi Arabia   West   \n",
       "2  Female                 7  Major Mfg Projects          Saudi Arabia   West   \n",
       "3    Male                 6       Manufacturing  United Arab Emirates   Main   \n",
       "4    Male                 5       Manufacturing                 Egypt   Main   \n",
       "\n",
       "   Monthly Salary  Annual Salary  Job Rate  Sick Leaves  Unpaid Leaves  \\\n",
       "0            1560          18720       3.0            1              0   \n",
       "1            3247          38964       1.0            0              5   \n",
       "2            2506          30072       2.0            0              3   \n",
       "3            1828          21936       3.0            0              0   \n",
       "4             970          11640       5.0            0              5   \n",
       "\n",
       "   Overtime Hours  Gender_Encode  Department_Encode  Country_Encode  \\\n",
       "0             183              1                 15               0   \n",
       "1             198              1                 15               2   \n",
       "2             192              0                  8               2   \n",
       "3               7              1                  9               4   \n",
       "4             121              1                  9               0   \n",
       "\n",
       "   Center_Encode  Job_Rate_Scaled  Department_Scaled  \n",
       "0              4        -0.434614           1.092952  \n",
       "1              4        -1.917035           1.092952  \n",
       "2              4        -1.175824          -0.200620  \n",
       "3              1        -0.434614          -0.015824  \n",
       "4              1         1.047807          -0.015824  "
      ]
     },
     "execution_count": 203,
     "metadata": {},
     "output_type": "execute_result"
    }
   ],
   "source": [
    "data.head()"
   ]
  },
  {
   "cell_type": "code",
   "execution_count": 204,
   "id": "d2c49e2a",
   "metadata": {},
   "outputs": [
    {
     "data": {
      "text/html": [
       "<div>\n",
       "<style scoped>\n",
       "    .dataframe tbody tr th:only-of-type {\n",
       "        vertical-align: middle;\n",
       "    }\n",
       "\n",
       "    .dataframe tbody tr th {\n",
       "        vertical-align: top;\n",
       "    }\n",
       "\n",
       "    .dataframe thead th {\n",
       "        text-align: right;\n",
       "    }\n",
       "</style>\n",
       "<table border=\"1\" class=\"dataframe\">\n",
       "  <thead>\n",
       "    <tr style=\"text-align: right;\">\n",
       "      <th></th>\n",
       "      <th>Experience Years</th>\n",
       "      <th>Annual Salary</th>\n",
       "      <th>Job Rate</th>\n",
       "    </tr>\n",
       "  </thead>\n",
       "  <tbody>\n",
       "    <tr>\n",
       "      <th>Experience Years</th>\n",
       "      <td>1.000000</td>\n",
       "      <td>-0.020192</td>\n",
       "      <td>0.042792</td>\n",
       "    </tr>\n",
       "    <tr>\n",
       "      <th>Annual Salary</th>\n",
       "      <td>-0.020192</td>\n",
       "      <td>1.000000</td>\n",
       "      <td>-0.041030</td>\n",
       "    </tr>\n",
       "    <tr>\n",
       "      <th>Job Rate</th>\n",
       "      <td>0.042792</td>\n",
       "      <td>-0.041030</td>\n",
       "      <td>1.000000</td>\n",
       "    </tr>\n",
       "  </tbody>\n",
       "</table>\n",
       "</div>"
      ],
      "text/plain": [
       "                  Experience Years  Annual Salary  Job Rate\n",
       "Experience Years          1.000000      -0.020192  0.042792\n",
       "Annual Salary            -0.020192       1.000000 -0.041030\n",
       "Job Rate                  0.042792      -0.041030  1.000000"
      ]
     },
     "execution_count": 204,
     "metadata": {},
     "output_type": "execute_result"
    }
   ],
   "source": [
    "#Correlation Matrix among Numerical Features.\n",
    "corr = data[[\"Experience Years\", \"Annual Salary\", \"Job Rate\"]].corr()\n",
    "corr"
   ]
  },
  {
   "cell_type": "code",
   "execution_count": 153,
   "id": "825b4a28",
   "metadata": {},
   "outputs": [
    {
     "data": {
      "text/plain": [
       "<Axes: >"
      ]
     },
     "execution_count": 153,
     "metadata": {},
     "output_type": "execute_result"
    },
    {
     "data": {
      "image/png": "[encoded data removed]",
      "text/plain": [
       "<Figure size 640x480 with 2 Axes>"
      ]
     },
     "metadata": {},
     "output_type": "display_data"
    }
   ],
   "source": [
    "sns.heatmap(corr, annot = True)"
   ]
  },
  {
   "cell_type": "code",
   "execution_count": 205,
   "id": "e1076cb4",
   "metadata": {},
   "outputs": [
    {
     "data": {
      "text/plain": [
       "<Axes: >"
      ]
     },
     "execution_count": 205,
     "metadata": {},
     "output_type": "execute_result"
    },
    {
     "data": {
      "image/png": "[encoded data removed]",
      "text/plain": [
       "<Figure size 640x480 with 1 Axes>"
      ]
     },
     "metadata": {},
     "output_type": "display_data"
    }
   ],
   "source": [
    "data[\"Experience Years\"].value_counts().plot(kind=\"box\")"
   ]
  },
  {
   "cell_type": "code",
   "execution_count": 155,
   "id": "7d80f4d1",
   "metadata": {},
   "outputs": [
    {
     "data": {
      "text/plain": [
       "<Axes: >"
      ]
     },
     "execution_count": 155,
     "metadata": {},
     "output_type": "execute_result"
    },
    {
     "data": {
      "image/png": "[encoded data removed]",
      "text/plain": [
       "<Figure size 640x480 with 1 Axes>"
      ]
     },
     "metadata": {},
     "output_type": "display_data"
    }
   ],
   "source": [
    "data[\"Monthly Salary\"].value_counts().plot(kind=\"box\")"
   ]
  },
  {
   "cell_type": "code",
   "execution_count": 156,
   "id": "6faf8ec5",
   "metadata": {},
   "outputs": [],
   "source": [
    "# Remove top 5% salaries\n",
    "threshold = data[\"Monthly Salary\"].quantile(0.95)\n",
    "data_cleaned = data[data[\"Monthly Salary\"] <= threshold]"
   ]
  },
  {
   "cell_type": "code",
   "execution_count": 157,
   "id": "2b847ebf",
   "metadata": {},
   "outputs": [
    {
     "data": {
      "image/png": "[encoded data removed]",
      "text/plain": [
       "<Figure size 640x480 with 1 Axes>"
      ]
     },
     "metadata": {},
     "output_type": "display_data"
    }
   ],
   "source": [
    "sns.boxplot(data[\"Monthly Salary\"])\n",
    "plt.title(\"Boxplot - Monthly Salary (After Removal)\")\n",
    "plt.show()"
   ]
  },
  {
   "cell_type": "code",
   "execution_count": 158,
   "id": "8bd50555",
   "metadata": {},
   "outputs": [
    {
     "data": {
      "text/plain": [
       "Gender\n",
       "Male      449\n",
       "Female    240\n",
       "Name: count, dtype: int64"
      ]
     },
     "execution_count": 158,
     "metadata": {},
     "output_type": "execute_result"
    }
   ],
   "source": [
    "data[\"Gender\"].value_counts()   #counts the unique value "
   ]
  },
  {
   "cell_type": "code",
   "execution_count": 159,
   "id": "74a7f124",
   "metadata": {},
   "outputs": [
    {
     "data": {
      "image/png": "[encoded data removed]",
      "text/plain": [
       "<Figure size 640x480 with 1 Axes>"
      ]
     },
     "metadata": {},
     "output_type": "display_data"
    }
   ],
   "source": [
    "data[\"Gender\"].value_counts().sort_values(ascending = False).plot(kind = \"pie\")\n",
    "plt.title(\"Pie chart of Gender Column\")\n",
    "plt.ylabel(\"\")\n",
    "plt.show()"
   ]
  },
  {
   "cell_type": "code",
   "execution_count": 160,
   "id": "1cd97c56",
   "metadata": {},
   "outputs": [
    {
     "data": {
      "image/png": "[encoded data removed]",
      "text/plain": [
       "<Figure size 640x480 with 1 Axes>"
      ]
     },
     "metadata": {},
     "output_type": "display_data"
    }
   ],
   "source": [
    "plt.hist(data[\"Job Rate\"])\n",
    "plt.title(\"Histogram of Job Rates\")\n",
    "plt.xlabel(\"Rate\")\n",
    "plt.ylabel(\"Count\")\n",
    "plt.show()"
   ]
  },
  {
   "cell_type": "code",
   "execution_count": 161,
   "id": "9dd01354",
   "metadata": {},
   "outputs": [
    {
     "data": {
      "text/plain": [
       "count    689.000000\n",
       "mean       3.586357\n",
       "std        1.350125\n",
       "min        1.000000\n",
       "25%        3.000000\n",
       "50%        3.000000\n",
       "75%        5.000000\n",
       "max        5.000000\n",
       "Name: Job Rate, dtype: float64"
      ]
     },
     "execution_count": 161,
     "metadata": {},
     "output_type": "execute_result"
    }
   ],
   "source": [
    "data[\"Job Rate\"].describe()"
   ]
  },
  {
   "cell_type": "code",
   "execution_count": 162,
   "id": "2bdf2b93",
   "metadata": {},
   "outputs": [
    {
     "data": {
      "image/png": "[encoded data removed]",
      "text/plain": [
       "<Figure size 640x480 with 1 Axes>"
      ]
     },
     "metadata": {},
     "output_type": "display_data"
    }
   ],
   "source": [
    "data.groupby(\"Department\")[\"Annual Salary\"].mean().sort_values(ascending=False).head(10).plot(kind=\"bar\")\n",
    "plt.title(\"Average Salary Graph by Department\")\n",
    "plt.xlabel(\"Department\")\n",
    "plt.ylabel(\"Average Salary\")\n",
    "plt.show()"
   ]
  },
  {
   "cell_type": "code",
   "execution_count": 163,
   "id": "27f7686a",
   "metadata": {},
   "outputs": [
    {
     "data": {
      "text/plain": [
       "Center\n",
       "East     2274.021277\n",
       "West     2068.672269\n",
       "North    2064.811594\n",
       "Main     2054.776892\n",
       "South    1981.153846\n",
       "Name: Monthly Salary, dtype: float64"
      ]
     },
     "execution_count": 163,
     "metadata": {},
     "output_type": "execute_result"
    }
   ],
   "source": [
    "data.groupby(\"Center\")[\"Monthly Salary\"].mean().sort_values(ascending=False)"
   ]
  },
  {
   "cell_type": "code",
   "execution_count": 164,
   "id": "fef6174b",
   "metadata": {},
   "outputs": [
    {
     "data": {
      "text/plain": [
       "array(['Egypt', 'Saudi Arabia', 'United Arab Emirates', 'Syria',\n",
       "       'Lebanon'], dtype=object)"
      ]
     },
     "execution_count": 164,
     "metadata": {},
     "output_type": "execute_result"
    }
   ],
   "source": [
    "data[\"Country\"].unique()"
   ]
  },
  {
   "cell_type": "code",
   "execution_count": 165,
   "id": "ed8dccc8",
   "metadata": {},
   "outputs": [
    {
     "data": {
      "image/png": "[encoded data removed]",
      "text/plain": [
       "<Figure size 640x480 with 1 Axes>"
      ]
     },
     "metadata": {},
     "output_type": "display_data"
    }
   ],
   "source": [
    "data.groupby(\"Country\")[\"Job Rate\"].mean().sort_values(ascending=False).plot(kind=\"bar\")\n",
    "plt.title(\"Job Rate by Countries\")\n",
    "plt.xlabel(\"Country\")\n",
    "plt.ylabel(\"Job Rate Average\")\n",
    "plt.show()"
   ]
  },
  {
   "cell_type": "code",
   "execution_count": 166,
   "id": "86f30869",
   "metadata": {},
   "outputs": [
    {
     "data": {
      "image/png": "[encoded data removed]",
      "text/plain": [
       "<Figure size 640x480 with 1 Axes>"
      ]
     },
     "metadata": {},
     "output_type": "display_data"
    }
   ],
   "source": [
    "plt.hist(data[\"Overtime Hours\"])\n",
    "plt.title(\"Histogram of overtime Hours\")\n",
    "plt.xlabel(\"Overtime Hours\")\n",
    "plt.ylabel(\"Frequency\")\n",
    "plt.show()"
   ]
  },
  {
   "cell_type": "code",
   "execution_count": 167,
   "id": "ccf632e5",
   "metadata": {},
   "outputs": [
    {
     "data": {
      "text/plain": [
       "count    689.000000\n",
       "mean      13.702467\n",
       "std       25.692049\n",
       "min        0.000000\n",
       "25%        3.000000\n",
       "50%        7.000000\n",
       "75%       10.000000\n",
       "max      198.000000\n",
       "Name: Overtime Hours, dtype: float64"
      ]
     },
     "execution_count": 167,
     "metadata": {},
     "output_type": "execute_result"
    }
   ],
   "source": [
    "data[\"Overtime Hours\"].describe()"
   ]
  },
  {
   "cell_type": "code",
   "execution_count": 168,
   "id": "5f2c6399",
   "metadata": {},
   "outputs": [
    {
     "data": {
      "text/plain": [
       "count      689.000000\n",
       "mean     24818.420900\n",
       "std       9159.470878\n",
       "min       8436.000000\n",
       "25%      17232.000000\n",
       "50%      24924.000000\n",
       "75%      32184.000000\n",
       "max      41400.000000\n",
       "Name: Annual Salary, dtype: float64"
      ]
     },
     "execution_count": 168,
     "metadata": {},
     "output_type": "execute_result"
    }
   ],
   "source": [
    "data[\"Annual Salary\"].describe()"
   ]
  },
  {
   "cell_type": "code",
   "execution_count": 169,
   "id": "ff2a8e71",
   "metadata": {},
   "outputs": [],
   "source": [
    "#Feature Engineering"
   ]
  },
  {
   "cell_type": "code",
   "execution_count": 170,
   "id": "b1ee3937",
   "metadata": {},
   "outputs": [],
   "source": [
    "from sklearn.preprocessing import LabelEncoder\n",
    "Label_Encoder = LabelEncoder()"
   ]
  },
  {
   "cell_type": "code",
   "execution_count": 206,
   "id": "cdd6737e",
   "metadata": {},
   "outputs": [
    {
     "data": {
      "text/html": [
       "<div>\n",
       "<style scoped>\n",
       "    .dataframe tbody tr th:only-of-type {\n",
       "        vertical-align: middle;\n",
       "    }\n",
       "\n",
       "    .dataframe tbody tr th {\n",
       "        vertical-align: top;\n",
       "    }\n",
       "\n",
       "    .dataframe thead th {\n",
       "        text-align: right;\n",
       "    }\n",
       "</style>\n",
       "<table border=\"1\" class=\"dataframe\">\n",
       "  <thead>\n",
       "    <tr style=\"text-align: right;\">\n",
       "      <th></th>\n",
       "      <th>Gender</th>\n",
       "      <th>Experience Years</th>\n",
       "      <th>Department</th>\n",
       "      <th>Country</th>\n",
       "      <th>Center</th>\n",
       "      <th>Monthly Salary</th>\n",
       "      <th>Annual Salary</th>\n",
       "      <th>Job Rate</th>\n",
       "      <th>Sick Leaves</th>\n",
       "      <th>Unpaid Leaves</th>\n",
       "      <th>Overtime Hours</th>\n",
       "      <th>Gender_Encode</th>\n",
       "      <th>Department_Encode</th>\n",
       "      <th>Country_Encode</th>\n",
       "      <th>Center_Encode</th>\n",
       "      <th>Job_Rate_Scaled</th>\n",
       "      <th>Department_Scaled</th>\n",
       "    </tr>\n",
       "  </thead>\n",
       "  <tbody>\n",
       "    <tr>\n",
       "      <th>0</th>\n",
       "      <td>Male</td>\n",
       "      <td>7</td>\n",
       "      <td>Quality Control</td>\n",
       "      <td>Egypt</td>\n",
       "      <td>West</td>\n",
       "      <td>1560</td>\n",
       "      <td>18720</td>\n",
       "      <td>3.0</td>\n",
       "      <td>1</td>\n",
       "      <td>0</td>\n",
       "      <td>183</td>\n",
       "      <td>1</td>\n",
       "      <td>15</td>\n",
       "      <td>0</td>\n",
       "      <td>4</td>\n",
       "      <td>-0.434614</td>\n",
       "      <td>1.092952</td>\n",
       "    </tr>\n",
       "    <tr>\n",
       "      <th>1</th>\n",
       "      <td>Male</td>\n",
       "      <td>5</td>\n",
       "      <td>Quality Control</td>\n",
       "      <td>Saudi Arabia</td>\n",
       "      <td>West</td>\n",
       "      <td>3247</td>\n",
       "      <td>38964</td>\n",
       "      <td>1.0</td>\n",
       "      <td>0</td>\n",
       "      <td>5</td>\n",
       "      <td>198</td>\n",
       "      <td>1</td>\n",
       "      <td>15</td>\n",
       "      <td>2</td>\n",
       "      <td>4</td>\n",
       "      <td>-1.917035</td>\n",
       "      <td>1.092952</td>\n",
       "    </tr>\n",
       "    <tr>\n",
       "      <th>2</th>\n",
       "      <td>Female</td>\n",
       "      <td>7</td>\n",
       "      <td>Major Mfg Projects</td>\n",
       "      <td>Saudi Arabia</td>\n",
       "      <td>West</td>\n",
       "      <td>2506</td>\n",
       "      <td>30072</td>\n",
       "      <td>2.0</td>\n",
       "      <td>0</td>\n",
       "      <td>3</td>\n",
       "      <td>192</td>\n",
       "      <td>0</td>\n",
       "      <td>8</td>\n",
       "      <td>2</td>\n",
       "      <td>4</td>\n",
       "      <td>-1.175824</td>\n",
       "      <td>-0.200620</td>\n",
       "    </tr>\n",
       "    <tr>\n",
       "      <th>3</th>\n",
       "      <td>Male</td>\n",
       "      <td>6</td>\n",
       "      <td>Manufacturing</td>\n",
       "      <td>United Arab Emirates</td>\n",
       "      <td>Main</td>\n",
       "      <td>1828</td>\n",
       "      <td>21936</td>\n",
       "      <td>3.0</td>\n",
       "      <td>0</td>\n",
       "      <td>0</td>\n",
       "      <td>7</td>\n",
       "      <td>1</td>\n",
       "      <td>9</td>\n",
       "      <td>4</td>\n",
       "      <td>1</td>\n",
       "      <td>-0.434614</td>\n",
       "      <td>-0.015824</td>\n",
       "    </tr>\n",
       "    <tr>\n",
       "      <th>4</th>\n",
       "      <td>Male</td>\n",
       "      <td>5</td>\n",
       "      <td>Manufacturing</td>\n",
       "      <td>Egypt</td>\n",
       "      <td>Main</td>\n",
       "      <td>970</td>\n",
       "      <td>11640</td>\n",
       "      <td>5.0</td>\n",
       "      <td>0</td>\n",
       "      <td>5</td>\n",
       "      <td>121</td>\n",
       "      <td>1</td>\n",
       "      <td>9</td>\n",
       "      <td>0</td>\n",
       "      <td>1</td>\n",
       "      <td>1.047807</td>\n",
       "      <td>-0.015824</td>\n",
       "    </tr>\n",
       "  </tbody>\n",
       "</table>\n",
       "</div>"
      ],
      "text/plain": [
       "   Gender  Experience Years          Department               Country Center  \\\n",
       "0    Male                 7     Quality Control                 Egypt   West   \n",
       "1    Male                 5     Quality Control          Saudi Arabia   West   \n",
       "2  Female                 7  Major Mfg Projects          Saudi Arabia   West   \n",
       "3    Male                 6       Manufacturing  United Arab Emirates   Main   \n",
       "4    Male                 5       Manufacturing                 Egypt   Main   \n",
       "\n",
       "   Monthly Salary  Annual Salary  Job Rate  Sick Leaves  Unpaid Leaves  \\\n",
       "0            1560          18720       3.0            1              0   \n",
       "1            3247          38964       1.0            0              5   \n",
       "2            2506          30072       2.0            0              3   \n",
       "3            1828          21936       3.0            0              0   \n",
       "4             970          11640       5.0            0              5   \n",
       "\n",
       "   Overtime Hours  Gender_Encode  Department_Encode  Country_Encode  \\\n",
       "0             183              1                 15               0   \n",
       "1             198              1                 15               2   \n",
       "2             192              0                  8               2   \n",
       "3               7              1                  9               4   \n",
       "4             121              1                  9               0   \n",
       "\n",
       "   Center_Encode  Job_Rate_Scaled  Department_Scaled  \n",
       "0              4        -0.434614           1.092952  \n",
       "1              4        -1.917035           1.092952  \n",
       "2              4        -1.175824          -0.200620  \n",
       "3              1        -0.434614          -0.015824  \n",
       "4              1         1.047807          -0.015824  "
      ]
     },
     "execution_count": 206,
     "metadata": {},
     "output_type": "execute_result"
    }
   ],
   "source": [
    "data.head()"
   ]
  },
  {
   "cell_type": "code",
   "execution_count": 172,
   "id": "d890a407",
   "metadata": {},
   "outputs": [],
   "source": [
    "#Label Encoding \n",
    "data[\"Gender_Encode\"] = Label_Encoder.fit_transform(data[\"Gender\"])\n",
    "data[\"Department_Encode\"] = Label_Encoder.fit_transform(data[\"Department\"])\n",
    "data[\"Country_Encode\"] = Label_Encoder.fit_transform(data[\"Country\"])\n",
    "data[\"Center_Encode\"] = Label_Encoder.fit_transform(data[\"Center\"])"
   ]
  },
  {
   "cell_type": "code",
   "execution_count": 211,
   "id": "5ce352df",
   "metadata": {},
   "outputs": [
    {
     "data": {
      "text/html": [
       "<div>\n",
       "<style scoped>\n",
       "    .dataframe tbody tr th:only-of-type {\n",
       "        vertical-align: middle;\n",
       "    }\n",
       "\n",
       "    .dataframe tbody tr th {\n",
       "        vertical-align: top;\n",
       "    }\n",
       "\n",
       "    .dataframe thead th {\n",
       "        text-align: right;\n",
       "    }\n",
       "</style>\n",
       "<table border=\"1\" class=\"dataframe\">\n",
       "  <thead>\n",
       "    <tr style=\"text-align: right;\">\n",
       "      <th></th>\n",
       "      <th>Gender</th>\n",
       "      <th>Experience Years</th>\n",
       "      <th>Department</th>\n",
       "      <th>Country</th>\n",
       "      <th>Center</th>\n",
       "      <th>Monthly Salary</th>\n",
       "      <th>Annual Salary</th>\n",
       "      <th>Job Rate</th>\n",
       "      <th>Sick Leaves</th>\n",
       "      <th>Unpaid Leaves</th>\n",
       "      <th>Overtime Hours</th>\n",
       "      <th>Gender_Encode</th>\n",
       "      <th>Department_Encode</th>\n",
       "      <th>Country_Encode</th>\n",
       "      <th>Center_Encode</th>\n",
       "      <th>Job_Rate_Scaled</th>\n",
       "      <th>Department_Scaled</th>\n",
       "    </tr>\n",
       "  </thead>\n",
       "  <tbody>\n",
       "    <tr>\n",
       "      <th>0</th>\n",
       "      <td>Male</td>\n",
       "      <td>7</td>\n",
       "      <td>Quality Control</td>\n",
       "      <td>Egypt</td>\n",
       "      <td>West</td>\n",
       "      <td>1560</td>\n",
       "      <td>18720</td>\n",
       "      <td>3.0</td>\n",
       "      <td>1</td>\n",
       "      <td>0</td>\n",
       "      <td>183</td>\n",
       "      <td>1</td>\n",
       "      <td>15</td>\n",
       "      <td>0</td>\n",
       "      <td>4</td>\n",
       "      <td>-0.434614</td>\n",
       "      <td>1.092952</td>\n",
       "    </tr>\n",
       "    <tr>\n",
       "      <th>1</th>\n",
       "      <td>Male</td>\n",
       "      <td>5</td>\n",
       "      <td>Quality Control</td>\n",
       "      <td>Saudi Arabia</td>\n",
       "      <td>West</td>\n",
       "      <td>3247</td>\n",
       "      <td>38964</td>\n",
       "      <td>1.0</td>\n",
       "      <td>0</td>\n",
       "      <td>5</td>\n",
       "      <td>198</td>\n",
       "      <td>1</td>\n",
       "      <td>15</td>\n",
       "      <td>2</td>\n",
       "      <td>4</td>\n",
       "      <td>-1.917035</td>\n",
       "      <td>1.092952</td>\n",
       "    </tr>\n",
       "    <tr>\n",
       "      <th>2</th>\n",
       "      <td>Female</td>\n",
       "      <td>7</td>\n",
       "      <td>Major Mfg Projects</td>\n",
       "      <td>Saudi Arabia</td>\n",
       "      <td>West</td>\n",
       "      <td>2506</td>\n",
       "      <td>30072</td>\n",
       "      <td>2.0</td>\n",
       "      <td>0</td>\n",
       "      <td>3</td>\n",
       "      <td>192</td>\n",
       "      <td>0</td>\n",
       "      <td>8</td>\n",
       "      <td>2</td>\n",
       "      <td>4</td>\n",
       "      <td>-1.175824</td>\n",
       "      <td>-0.200620</td>\n",
       "    </tr>\n",
       "  </tbody>\n",
       "</table>\n",
       "</div>"
      ],
      "text/plain": [
       "   Gender  Experience Years          Department       Country Center  \\\n",
       "0    Male                 7     Quality Control         Egypt   West   \n",
       "1    Male                 5     Quality Control  Saudi Arabia   West   \n",
       "2  Female                 7  Major Mfg Projects  Saudi Arabia   West   \n",
       "\n",
       "   Monthly Salary  Annual Salary  Job Rate  Sick Leaves  Unpaid Leaves  \\\n",
       "0            1560          18720       3.0            1              0   \n",
       "1            3247          38964       1.0            0              5   \n",
       "2            2506          30072       2.0            0              3   \n",
       "\n",
       "   Overtime Hours  Gender_Encode  Department_Encode  Country_Encode  \\\n",
       "0             183              1                 15               0   \n",
       "1             198              1                 15               2   \n",
       "2             192              0                  8               2   \n",
       "\n",
       "   Center_Encode  Job_Rate_Scaled  Department_Scaled  \n",
       "0              4        -0.434614           1.092952  \n",
       "1              4        -1.917035           1.092952  \n",
       "2              4        -1.175824          -0.200620  "
      ]
     },
     "execution_count": 211,
     "metadata": {},
     "output_type": "execute_result"
    }
   ],
   "source": [
    "#Data after Label Encoding\n",
    "data.head(3)"
   ]
  },
  {
   "cell_type": "code",
   "execution_count": 174,
   "id": "4b43fb25",
   "metadata": {},
   "outputs": [],
   "source": [
    "#Feature Scalling\n",
    "from sklearn.preprocessing import StandardScaler\n",
    "std_scaler = StandardScaler()"
   ]
  },
  {
   "cell_type": "code",
   "execution_count": 175,
   "id": "89119c0b",
   "metadata": {},
   "outputs": [],
   "source": [
    "data[\"Job_Rate_Scaled\"] = std_scaler.fit_transform(data[[\"Job Rate\"]])\n",
    "data[\"Department_Scaled\"] = std_scaler.fit_transform(data[[\"Department_Encode\"]])"
   ]
  },
  {
   "cell_type": "code",
   "execution_count": 176,
   "id": "181cf401",
   "metadata": {},
   "outputs": [
    {
     "data": {
      "text/html": [
       "<div>\n",
       "<style scoped>\n",
       "    .dataframe tbody tr th:only-of-type {\n",
       "        vertical-align: middle;\n",
       "    }\n",
       "\n",
       "    .dataframe tbody tr th {\n",
       "        vertical-align: top;\n",
       "    }\n",
       "\n",
       "    .dataframe thead th {\n",
       "        text-align: right;\n",
       "    }\n",
       "</style>\n",
       "<table border=\"1\" class=\"dataframe\">\n",
       "  <thead>\n",
       "    <tr style=\"text-align: right;\">\n",
       "      <th></th>\n",
       "      <th>No</th>\n",
       "      <th>First Name</th>\n",
       "      <th>Last Name</th>\n",
       "      <th>Gender</th>\n",
       "      <th>Start Date</th>\n",
       "      <th>Years</th>\n",
       "      <th>Department</th>\n",
       "      <th>Country</th>\n",
       "      <th>Center</th>\n",
       "      <th>Monthly Salary</th>\n",
       "      <th>...</th>\n",
       "      <th>Job Rate</th>\n",
       "      <th>Sick Leaves</th>\n",
       "      <th>Unpaid Leaves</th>\n",
       "      <th>Overtime Hours</th>\n",
       "      <th>Gender_Encode</th>\n",
       "      <th>Department_Encode</th>\n",
       "      <th>Country_Encode</th>\n",
       "      <th>Center_Encode</th>\n",
       "      <th>Job_Rate_Scaled</th>\n",
       "      <th>Department_Scaled</th>\n",
       "    </tr>\n",
       "  </thead>\n",
       "  <tbody>\n",
       "    <tr>\n",
       "      <th>0</th>\n",
       "      <td>1</td>\n",
       "      <td>Ghadir</td>\n",
       "      <td>Hmshw</td>\n",
       "      <td>Male</td>\n",
       "      <td>43194</td>\n",
       "      <td>7</td>\n",
       "      <td>Quality Control</td>\n",
       "      <td>Egypt</td>\n",
       "      <td>West</td>\n",
       "      <td>1560</td>\n",
       "      <td>...</td>\n",
       "      <td>3.0</td>\n",
       "      <td>1</td>\n",
       "      <td>0</td>\n",
       "      <td>183</td>\n",
       "      <td>1</td>\n",
       "      <td>15</td>\n",
       "      <td>0</td>\n",
       "      <td>4</td>\n",
       "      <td>-0.434614</td>\n",
       "      <td>1.092952</td>\n",
       "    </tr>\n",
       "    <tr>\n",
       "      <th>1</th>\n",
       "      <td>2</td>\n",
       "      <td>Omar</td>\n",
       "      <td>Hishan</td>\n",
       "      <td>Male</td>\n",
       "      <td>43972</td>\n",
       "      <td>5</td>\n",
       "      <td>Quality Control</td>\n",
       "      <td>Saudi Arabia</td>\n",
       "      <td>West</td>\n",
       "      <td>3247</td>\n",
       "      <td>...</td>\n",
       "      <td>1.0</td>\n",
       "      <td>0</td>\n",
       "      <td>5</td>\n",
       "      <td>198</td>\n",
       "      <td>1</td>\n",
       "      <td>15</td>\n",
       "      <td>2</td>\n",
       "      <td>4</td>\n",
       "      <td>-1.917035</td>\n",
       "      <td>1.092952</td>\n",
       "    </tr>\n",
       "    <tr>\n",
       "      <th>2</th>\n",
       "      <td>3</td>\n",
       "      <td>Ailya</td>\n",
       "      <td>Sharaf</td>\n",
       "      <td>Female</td>\n",
       "      <td>43006</td>\n",
       "      <td>7</td>\n",
       "      <td>Major Mfg Projects</td>\n",
       "      <td>Saudi Arabia</td>\n",
       "      <td>West</td>\n",
       "      <td>2506</td>\n",
       "      <td>...</td>\n",
       "      <td>2.0</td>\n",
       "      <td>0</td>\n",
       "      <td>3</td>\n",
       "      <td>192</td>\n",
       "      <td>0</td>\n",
       "      <td>8</td>\n",
       "      <td>2</td>\n",
       "      <td>4</td>\n",
       "      <td>-1.175824</td>\n",
       "      <td>-0.200620</td>\n",
       "    </tr>\n",
       "  </tbody>\n",
       "</table>\n",
       "<p>3 rows × 21 columns</p>\n",
       "</div>"
      ],
      "text/plain": [
       "   No First Name Last Name  Gender  Start Date  Years          Department  \\\n",
       "0   1     Ghadir     Hmshw    Male       43194      7     Quality Control   \n",
       "1   2       Omar    Hishan    Male       43972      5     Quality Control   \n",
       "2   3      Ailya    Sharaf  Female       43006      7  Major Mfg Projects   \n",
       "\n",
       "        Country Center  Monthly Salary  ...  Job Rate  Sick Leaves  \\\n",
       "0         Egypt   West            1560  ...       3.0            1   \n",
       "1  Saudi Arabia   West            3247  ...       1.0            0   \n",
       "2  Saudi Arabia   West            2506  ...       2.0            0   \n",
       "\n",
       "   Unpaid Leaves  Overtime Hours  Gender_Encode  Department_Encode  \\\n",
       "0              0             183              1                 15   \n",
       "1              5             198              1                 15   \n",
       "2              3             192              0                  8   \n",
       "\n",
       "   Country_Encode  Center_Encode  Job_Rate_Scaled  Department_Scaled  \n",
       "0               0              4        -0.434614           1.092952  \n",
       "1               2              4        -1.917035           1.092952  \n",
       "2               2              4        -1.175824          -0.200620  \n",
       "\n",
       "[3 rows x 21 columns]"
      ]
     },
     "execution_count": 176,
     "metadata": {},
     "output_type": "execute_result"
    }
   ],
   "source": [
    "#Data after Scalling\n",
    "data.head(3)"
   ]
  },
  {
   "cell_type": "code",
   "execution_count": 212,
   "id": "60850cac",
   "metadata": {},
   "outputs": [],
   "source": [
    "data['Total Leaves'] = data['Sick Leaves'] + data['Unpaid Leaves']\n"
   ]
  },
  {
   "cell_type": "code",
   "execution_count": 213,
   "id": "c28aaccf",
   "metadata": {},
   "outputs": [
    {
     "data": {
      "text/html": [
       "<div>\n",
       "<style scoped>\n",
       "    .dataframe tbody tr th:only-of-type {\n",
       "        vertical-align: middle;\n",
       "    }\n",
       "\n",
       "    .dataframe tbody tr th {\n",
       "        vertical-align: top;\n",
       "    }\n",
       "\n",
       "    .dataframe thead th {\n",
       "        text-align: right;\n",
       "    }\n",
       "</style>\n",
       "<table border=\"1\" class=\"dataframe\">\n",
       "  <thead>\n",
       "    <tr style=\"text-align: right;\">\n",
       "      <th></th>\n",
       "      <th>Gender</th>\n",
       "      <th>Experience Years</th>\n",
       "      <th>Department</th>\n",
       "      <th>Country</th>\n",
       "      <th>Center</th>\n",
       "      <th>Monthly Salary</th>\n",
       "      <th>Annual Salary</th>\n",
       "      <th>Job Rate</th>\n",
       "      <th>Sick Leaves</th>\n",
       "      <th>Unpaid Leaves</th>\n",
       "      <th>Overtime Hours</th>\n",
       "      <th>Gender_Encode</th>\n",
       "      <th>Department_Encode</th>\n",
       "      <th>Country_Encode</th>\n",
       "      <th>Center_Encode</th>\n",
       "      <th>Job_Rate_Scaled</th>\n",
       "      <th>Department_Scaled</th>\n",
       "      <th>Total Leaves</th>\n",
       "    </tr>\n",
       "  </thead>\n",
       "  <tbody>\n",
       "    <tr>\n",
       "      <th>0</th>\n",
       "      <td>Male</td>\n",
       "      <td>7</td>\n",
       "      <td>Quality Control</td>\n",
       "      <td>Egypt</td>\n",
       "      <td>West</td>\n",
       "      <td>1560</td>\n",
       "      <td>18720</td>\n",
       "      <td>3.0</td>\n",
       "      <td>1</td>\n",
       "      <td>0</td>\n",
       "      <td>183</td>\n",
       "      <td>1</td>\n",
       "      <td>15</td>\n",
       "      <td>0</td>\n",
       "      <td>4</td>\n",
       "      <td>-0.434614</td>\n",
       "      <td>1.092952</td>\n",
       "      <td>1</td>\n",
       "    </tr>\n",
       "    <tr>\n",
       "      <th>1</th>\n",
       "      <td>Male</td>\n",
       "      <td>5</td>\n",
       "      <td>Quality Control</td>\n",
       "      <td>Saudi Arabia</td>\n",
       "      <td>West</td>\n",
       "      <td>3247</td>\n",
       "      <td>38964</td>\n",
       "      <td>1.0</td>\n",
       "      <td>0</td>\n",
       "      <td>5</td>\n",
       "      <td>198</td>\n",
       "      <td>1</td>\n",
       "      <td>15</td>\n",
       "      <td>2</td>\n",
       "      <td>4</td>\n",
       "      <td>-1.917035</td>\n",
       "      <td>1.092952</td>\n",
       "      <td>5</td>\n",
       "    </tr>\n",
       "    <tr>\n",
       "      <th>2</th>\n",
       "      <td>Female</td>\n",
       "      <td>7</td>\n",
       "      <td>Major Mfg Projects</td>\n",
       "      <td>Saudi Arabia</td>\n",
       "      <td>West</td>\n",
       "      <td>2506</td>\n",
       "      <td>30072</td>\n",
       "      <td>2.0</td>\n",
       "      <td>0</td>\n",
       "      <td>3</td>\n",
       "      <td>192</td>\n",
       "      <td>0</td>\n",
       "      <td>8</td>\n",
       "      <td>2</td>\n",
       "      <td>4</td>\n",
       "      <td>-1.175824</td>\n",
       "      <td>-0.200620</td>\n",
       "      <td>3</td>\n",
       "    </tr>\n",
       "  </tbody>\n",
       "</table>\n",
       "</div>"
      ],
      "text/plain": [
       "   Gender  Experience Years          Department       Country Center  \\\n",
       "0    Male                 7     Quality Control         Egypt   West   \n",
       "1    Male                 5     Quality Control  Saudi Arabia   West   \n",
       "2  Female                 7  Major Mfg Projects  Saudi Arabia   West   \n",
       "\n",
       "   Monthly Salary  Annual Salary  Job Rate  Sick Leaves  Unpaid Leaves  \\\n",
       "0            1560          18720       3.0            1              0   \n",
       "1            3247          38964       1.0            0              5   \n",
       "2            2506          30072       2.0            0              3   \n",
       "\n",
       "   Overtime Hours  Gender_Encode  Department_Encode  Country_Encode  \\\n",
       "0             183              1                 15               0   \n",
       "1             198              1                 15               2   \n",
       "2             192              0                  8               2   \n",
       "\n",
       "   Center_Encode  Job_Rate_Scaled  Department_Scaled  Total Leaves  \n",
       "0              4        -0.434614           1.092952             1  \n",
       "1              4        -1.917035           1.092952             5  \n",
       "2              4        -1.175824          -0.200620             3  "
      ]
     },
     "execution_count": 213,
     "metadata": {},
     "output_type": "execute_result"
    }
   ],
   "source": [
    "data.head(3)"
   ]
  },
  {
   "cell_type": "code",
   "execution_count": 207,
   "id": "f194b7e1",
   "metadata": {},
   "outputs": [
    {
     "data": {
      "text/plain": [
       "Index(['Gender', 'Experience Years', 'Department', 'Country', 'Center',\n",
       "       'Monthly Salary', 'Annual Salary', 'Job Rate', 'Sick Leaves',\n",
       "       'Unpaid Leaves', 'Overtime Hours', 'Gender_Encode', 'Department_Encode',\n",
       "       'Country_Encode', 'Center_Encode', 'Job_Rate_Scaled',\n",
       "       'Department_Scaled'],\n",
       "      dtype='object')"
      ]
     },
     "execution_count": 207,
     "metadata": {},
     "output_type": "execute_result"
    }
   ],
   "source": [
    "data.columns"
   ]
  },
  {
   "cell_type": "code",
   "execution_count": 208,
   "id": "83a73be3",
   "metadata": {},
   "outputs": [],
   "source": [
    "#Dependent and Independent \n",
    "x = data[[\"Experience Years\", \"Job Rate\"]]\n",
    "y = data[\"Annual Salary\"]"
   ]
  },
  {
   "cell_type": "code",
   "execution_count": 179,
   "id": "5bbc8745",
   "metadata": {},
   "outputs": [],
   "source": [
    "#Splitting the data into Training and Testing\n",
    "from sklearn.model_selection import train_test_split\n",
    "x_train, x_test, y_train, y_test = train_test_split(x, y, test_size = 0.2)"
   ]
  },
  {
   "cell_type": "code",
   "execution_count": 180,
   "id": "02e2bea5",
   "metadata": {},
   "outputs": [
    {
     "data": {
      "text/plain": [
       "551"
      ]
     },
     "execution_count": 180,
     "metadata": {},
     "output_type": "execute_result"
    }
   ],
   "source": [
    "len(x_train)"
   ]
  },
  {
   "cell_type": "code",
   "execution_count": 181,
   "id": "42a4b70d",
   "metadata": {},
   "outputs": [
    {
     "data": {
      "text/plain": [
       "551"
      ]
     },
     "execution_count": 181,
     "metadata": {},
     "output_type": "execute_result"
    }
   ],
   "source": [
    "len(y_train)"
   ]
  },
  {
   "cell_type": "code",
   "execution_count": 182,
   "id": "644fdc99",
   "metadata": {},
   "outputs": [
    {
     "data": {
      "text/plain": [
       "138"
      ]
     },
     "execution_count": 182,
     "metadata": {},
     "output_type": "execute_result"
    }
   ],
   "source": [
    "len(x_test)"
   ]
  },
  {
   "cell_type": "code",
   "execution_count": 183,
   "id": "c46a155d",
   "metadata": {},
   "outputs": [
    {
     "data": {
      "text/plain": [
       "138"
      ]
     },
     "execution_count": 183,
     "metadata": {},
     "output_type": "execute_result"
    }
   ],
   "source": [
    "len(y_test)"
   ]
  },
  {
   "cell_type": "code",
   "execution_count": 209,
   "id": "9170fc24",
   "metadata": {},
   "outputs": [
    {
     "data": {
      "text/html": [
       "<div>\n",
       "<style scoped>\n",
       "    .dataframe tbody tr th:only-of-type {\n",
       "        vertical-align: middle;\n",
       "    }\n",
       "\n",
       "    .dataframe tbody tr th {\n",
       "        vertical-align: top;\n",
       "    }\n",
       "\n",
       "    .dataframe thead th {\n",
       "        text-align: right;\n",
       "    }\n",
       "</style>\n",
       "<table border=\"1\" class=\"dataframe\">\n",
       "  <thead>\n",
       "    <tr style=\"text-align: right;\">\n",
       "      <th></th>\n",
       "      <th>Experience Years</th>\n",
       "      <th>Job Rate</th>\n",
       "    </tr>\n",
       "  </thead>\n",
       "  <tbody>\n",
       "    <tr>\n",
       "      <th>0</th>\n",
       "      <td>7</td>\n",
       "      <td>3.0</td>\n",
       "    </tr>\n",
       "    <tr>\n",
       "      <th>1</th>\n",
       "      <td>5</td>\n",
       "      <td>1.0</td>\n",
       "    </tr>\n",
       "    <tr>\n",
       "      <th>2</th>\n",
       "      <td>7</td>\n",
       "      <td>2.0</td>\n",
       "    </tr>\n",
       "    <tr>\n",
       "      <th>3</th>\n",
       "      <td>6</td>\n",
       "      <td>3.0</td>\n",
       "    </tr>\n",
       "    <tr>\n",
       "      <th>4</th>\n",
       "      <td>5</td>\n",
       "      <td>5.0</td>\n",
       "    </tr>\n",
       "    <tr>\n",
       "      <th>...</th>\n",
       "      <td>...</td>\n",
       "      <td>...</td>\n",
       "    </tr>\n",
       "    <tr>\n",
       "      <th>684</th>\n",
       "      <td>5</td>\n",
       "      <td>2.0</td>\n",
       "    </tr>\n",
       "    <tr>\n",
       "      <th>685</th>\n",
       "      <td>5</td>\n",
       "      <td>3.0</td>\n",
       "    </tr>\n",
       "    <tr>\n",
       "      <th>686</th>\n",
       "      <td>8</td>\n",
       "      <td>5.0</td>\n",
       "    </tr>\n",
       "    <tr>\n",
       "      <th>687</th>\n",
       "      <td>7</td>\n",
       "      <td>3.0</td>\n",
       "    </tr>\n",
       "    <tr>\n",
       "      <th>688</th>\n",
       "      <td>4</td>\n",
       "      <td>5.0</td>\n",
       "    </tr>\n",
       "  </tbody>\n",
       "</table>\n",
       "<p>689 rows × 2 columns</p>\n",
       "</div>"
      ],
      "text/plain": [
       "     Experience Years  Job Rate\n",
       "0                   7       3.0\n",
       "1                   5       1.0\n",
       "2                   7       2.0\n",
       "3                   6       3.0\n",
       "4                   5       5.0\n",
       "..                ...       ...\n",
       "684                 5       2.0\n",
       "685                 5       3.0\n",
       "686                 8       5.0\n",
       "687                 7       3.0\n",
       "688                 4       5.0\n",
       "\n",
       "[689 rows x 2 columns]"
      ]
     },
     "execution_count": 209,
     "metadata": {},
     "output_type": "execute_result"
    }
   ],
   "source": [
    "x"
   ]
  },
  {
   "cell_type": "code",
   "execution_count": 210,
   "id": "7e54c746",
   "metadata": {},
   "outputs": [
    {
     "data": {
      "text/plain": [
       "0      18720\n",
       "1      38964\n",
       "2      30072\n",
       "3      21936\n",
       "4      11640\n",
       "       ...  \n",
       "684    17424\n",
       "685    38844\n",
       "686    33828\n",
       "687    24828\n",
       "688    31272\n",
       "Name: Annual Salary, Length: 689, dtype: int64"
      ]
     },
     "execution_count": 210,
     "metadata": {},
     "output_type": "execute_result"
    }
   ],
   "source": [
    "y"
   ]
  },
  {
   "cell_type": "code",
   "execution_count": 186,
   "id": "35210a59",
   "metadata": {},
   "outputs": [],
   "source": [
    "from sklearn.linear_model import LinearRegression\n",
    "lr = LinearRegression()"
   ]
  },
  {
   "cell_type": "code",
   "execution_count": 187,
   "id": "ee666df2",
   "metadata": {},
   "outputs": [
    {
     "data": {
      "text/html": [
       "<style>#sk-container-id-3 {\n",
       "  /* Definition of color scheme common for light and dark mode */\n",
       "  --sklearn-color-text: #000;\n",
       "  --sklearn-color-text-muted: #666;\n",
       "  --sklearn-color-line: gray;\n",
       "  /* Definition of color scheme for unfitted estimators */\n",
       "  --sklearn-color-unfitted-level-0: #fff5e6;\n",
       "  --sklearn-color-unfitted-level-1: #f6e4d2;\n",
       "  --sklearn-color-unfitted-level-2: #ffe0b3;\n",
       "  --sklearn-color-unfitted-level-3: chocolate;\n",
       "  /* Definition of color scheme for fitted estimators */\n",
       "  --sklearn-color-fitted-level-0: #f0f8ff;\n",
       "  --sklearn-color-fitted-level-1: #d4ebff;\n",
       "  --sklearn-color-fitted-level-2: #b3dbfd;\n",
       "  --sklearn-color-fitted-level-3: cornflowerblue;\n",
       "\n",
       "  /* Specific color for light theme */\n",
       "  --sklearn-color-text-on-default-background: var(--sg-text-color, var(--theme-code-foreground, var(--jp-content-font-color1, black)));\n",
       "  --sklearn-color-background: var(--sg-background-color, var(--theme-background, var(--jp-layout-color0, white)));\n",
       "  --sklearn-color-border-box: var(--sg-text-color, var(--theme-code-foreground, var(--jp-content-font-color1, black)));\n",
       "  --sklearn-color-icon: #696969;\n",
       "\n",
       "  @media (prefers-color-scheme: dark) {\n",
       "    /* Redefinition of color scheme for dark theme */\n",
       "    --sklearn-color-text-on-default-background: var(--sg-text-color, var(--theme-code-foreground, var(--jp-content-font-color1, white)));\n",
       "    --sklearn-color-background: var(--sg-background-color, var(--theme-background, var(--jp-layout-color0, #111)));\n",
       "    --sklearn-color-border-box: var(--sg-text-color, var(--theme-code-foreground, var(--jp-content-font-color1, white)));\n",
       "    --sklearn-color-icon: #878787;\n",
       "  }\n",
       "}\n",
       "\n",
       "#sk-container-id-3 {\n",
       "  color: var(--sklearn-color-text);\n",
       "}\n",
       "\n",
       "#sk-container-id-3 pre {\n",
       "  padding: 0;\n",
       "}\n",
       "\n",
       "#sk-container-id-3 input.sk-hidden--visually {\n",
       "  border: 0;\n",
       "  clip: rect(1px 1px 1px 1px);\n",
       "  clip: rect(1px, 1px, 1px, 1px);\n",
       "  height: 1px;\n",
       "  margin: -1px;\n",
       "  overflow: hidden;\n",
       "  padding: 0;\n",
       "  position: absolute;\n",
       "  width: 1px;\n",
       "}\n",
       "\n",
       "#sk-container-id-3 div.sk-dashed-wrapped {\n",
       "  border: 1px dashed var(--sklearn-color-line);\n",
       "  margin: 0 0.4em 0.5em 0.4em;\n",
       "  box-sizing: border-box;\n",
       "  padding-bottom: 0.4em;\n",
       "  background-color: var(--sklearn-color-background);\n",
       "}\n",
       "\n",
       "#sk-container-id-3 div.sk-container {\n",
       "  /* jupyter's `normalize.less` sets `[hidden] { display: none; }`\n",
       "     but bootstrap.min.css set `[hidden] { display: none !important; }`\n",
       "     so we also need the `!important` here to be able to override the\n",
       "     default hidden behavior on the sphinx rendered scikit-learn.org.\n",
       "     See: https://github.com/scikit-learn/scikit-learn/issues/21755 */\n",
       "  display: inline-block !important;\n",
       "  position: relative;\n",
       "}\n",
       "\n",
       "#sk-container-id-3 div.sk-text-repr-fallback {\n",
       "  display: none;\n",
       "}\n",
       "\n",
       "div.sk-parallel-item,\n",
       "div.sk-serial,\n",
       "div.sk-item {\n",
       "  /* draw centered vertical line to link estimators */\n",
       "  background-image: linear-gradient(var(--sklearn-color-text-on-default-background), var(--sklearn-color-text-on-default-background));\n",
       "  background-size: 2px 100%;\n",
       "  background-repeat: no-repeat;\n",
       "  background-position: center center;\n",
       "}\n",
       "\n",
       "/* Parallel-specific style estimator block */\n",
       "\n",
       "#sk-container-id-3 div.sk-parallel-item::after {\n",
       "  content: \"\";\n",
       "  width: 100%;\n",
       "  border-bottom: 2px solid var(--sklearn-color-text-on-default-background);\n",
       "  flex-grow: 1;\n",
       "}\n",
       "\n",
       "#sk-container-id-3 div.sk-parallel {\n",
       "  display: flex;\n",
       "  align-items: stretch;\n",
       "  justify-content: center;\n",
       "  background-color: var(--sklearn-color-background);\n",
       "  position: relative;\n",
       "}\n",
       "\n",
       "#sk-container-id-3 div.sk-parallel-item {\n",
       "  display: flex;\n",
       "  flex-direction: column;\n",
       "}\n",
       "\n",
       "#sk-container-id-3 div.sk-parallel-item:first-child::after {\n",
       "  align-self: flex-end;\n",
       "  width: 50%;\n",
       "}\n",
       "\n",
       "#sk-container-id-3 div.sk-parallel-item:last-child::after {\n",
       "  align-self: flex-start;\n",
       "  width: 50%;\n",
       "}\n",
       "\n",
       "#sk-container-id-3 div.sk-parallel-item:only-child::after {\n",
       "  width: 0;\n",
       "}\n",
       "\n",
       "/* Serial-specific style estimator block */\n",
       "\n",
       "#sk-container-id-3 div.sk-serial {\n",
       "  display: flex;\n",
       "  flex-direction: column;\n",
       "  align-items: center;\n",
       "  background-color: var(--sklearn-color-background);\n",
       "  padding-right: 1em;\n",
       "  padding-left: 1em;\n",
       "}\n",
       "\n",
       "\n",
       "/* Toggleable style: style used for estimator/Pipeline/ColumnTransformer box that is\n",
       "clickable and can be expanded/collapsed.\n",
       "- Pipeline and ColumnTransformer use this feature and define the default style\n",
       "- Estimators will overwrite some part of the style using the `sk-estimator` class\n",
       "*/\n",
       "\n",
       "/* Pipeline and ColumnTransformer style (default) */\n",
       "\n",
       "#sk-container-id-3 div.sk-toggleable {\n",
       "  /* Default theme specific background. It is overwritten whether we have a\n",
       "  specific estimator or a Pipeline/ColumnTransformer */\n",
       "  background-color: var(--sklearn-color-background);\n",
       "}\n",
       "\n",
       "/* Toggleable label */\n",
       "#sk-container-id-3 label.sk-toggleable__label {\n",
       "  cursor: pointer;\n",
       "  display: flex;\n",
       "  width: 100%;\n",
       "  margin-bottom: 0;\n",
       "  padding: 0.5em;\n",
       "  box-sizing: border-box;\n",
       "  text-align: center;\n",
       "  align-items: start;\n",
       "  justify-content: space-between;\n",
       "  gap: 0.5em;\n",
       "}\n",
       "\n",
       "#sk-container-id-3 label.sk-toggleable__label .caption {\n",
       "  font-size: 0.6rem;\n",
       "  font-weight: lighter;\n",
       "  color: var(--sklearn-color-text-muted);\n",
       "}\n",
       "\n",
       "#sk-container-id-3 label.sk-toggleable__label-arrow:before {\n",
       "  /* Arrow on the left of the label */\n",
       "  content: \"▸\";\n",
       "  float: left;\n",
       "  margin-right: 0.25em;\n",
       "  color: var(--sklearn-color-icon);\n",
       "}\n",
       "\n",
       "#sk-container-id-3 label.sk-toggleable__label-arrow:hover:before {\n",
       "  color: var(--sklearn-color-text);\n",
       "}\n",
       "\n",
       "/* Toggleable content - dropdown */\n",
       "\n",
       "#sk-container-id-3 div.sk-toggleable__content {\n",
       "  display: none;\n",
       "  text-align: left;\n",
       "  /* unfitted */\n",
       "  background-color: var(--sklearn-color-unfitted-level-0);\n",
       "}\n",
       "\n",
       "#sk-container-id-3 div.sk-toggleable__content.fitted {\n",
       "  /* fitted */\n",
       "  background-color: var(--sklearn-color-fitted-level-0);\n",
       "}\n",
       "\n",
       "#sk-container-id-3 div.sk-toggleable__content pre {\n",
       "  margin: 0.2em;\n",
       "  border-radius: 0.25em;\n",
       "  color: var(--sklearn-color-text);\n",
       "  /* unfitted */\n",
       "  background-color: var(--sklearn-color-unfitted-level-0);\n",
       "}\n",
       "\n",
       "#sk-container-id-3 div.sk-toggleable__content.fitted pre {\n",
       "  /* unfitted */\n",
       "  background-color: var(--sklearn-color-fitted-level-0);\n",
       "}\n",
       "\n",
       "#sk-container-id-3 input.sk-toggleable__control:checked~div.sk-toggleable__content {\n",
       "  /* Expand drop-down */\n",
       "  display: block;\n",
       "  width: 100%;\n",
       "  overflow: visible;\n",
       "}\n",
       "\n",
       "#sk-container-id-3 input.sk-toggleable__control:checked~label.sk-toggleable__label-arrow:before {\n",
       "  content: \"▾\";\n",
       "}\n",
       "\n",
       "/* Pipeline/ColumnTransformer-specific style */\n",
       "\n",
       "#sk-container-id-3 div.sk-label input.sk-toggleable__control:checked~label.sk-toggleable__label {\n",
       "  color: var(--sklearn-color-text);\n",
       "  background-color: var(--sklearn-color-unfitted-level-2);\n",
       "}\n",
       "\n",
       "#sk-container-id-3 div.sk-label.fitted input.sk-toggleable__control:checked~label.sk-toggleable__label {\n",
       "  background-color: var(--sklearn-color-fitted-level-2);\n",
       "}\n",
       "\n",
       "/* Estimator-specific style */\n",
       "\n",
       "/* Colorize estimator box */\n",
       "#sk-container-id-3 div.sk-estimator input.sk-toggleable__control:checked~label.sk-toggleable__label {\n",
       "  /* unfitted */\n",
       "  background-color: var(--sklearn-color-unfitted-level-2);\n",
       "}\n",
       "\n",
       "#sk-container-id-3 div.sk-estimator.fitted input.sk-toggleable__control:checked~label.sk-toggleable__label {\n",
       "  /* fitted */\n",
       "  background-color: var(--sklearn-color-fitted-level-2);\n",
       "}\n",
       "\n",
       "#sk-container-id-3 div.sk-label label.sk-toggleable__label,\n",
       "#sk-container-id-3 div.sk-label label {\n",
       "  /* The background is the default theme color */\n",
       "  color: var(--sklearn-color-text-on-default-background);\n",
       "}\n",
       "\n",
       "/* On hover, darken the color of the background */\n",
       "#sk-container-id-3 div.sk-label:hover label.sk-toggleable__label {\n",
       "  color: var(--sklearn-color-text);\n",
       "  background-color: var(--sklearn-color-unfitted-level-2);\n",
       "}\n",
       "\n",
       "/* Label box, darken color on hover, fitted */\n",
       "#sk-container-id-3 div.sk-label.fitted:hover label.sk-toggleable__label.fitted {\n",
       "  color: var(--sklearn-color-text);\n",
       "  background-color: var(--sklearn-color-fitted-level-2);\n",
       "}\n",
       "\n",
       "/* Estimator label */\n",
       "\n",
       "#sk-container-id-3 div.sk-label label {\n",
       "  font-family: monospace;\n",
       "  font-weight: bold;\n",
       "  display: inline-block;\n",
       "  line-height: 1.2em;\n",
       "}\n",
       "\n",
       "#sk-container-id-3 div.sk-label-container {\n",
       "  text-align: center;\n",
       "}\n",
       "\n",
       "/* Estimator-specific */\n",
       "#sk-container-id-3 div.sk-estimator {\n",
       "  font-family: monospace;\n",
       "  border: 1px dotted var(--sklearn-color-border-box);\n",
       "  border-radius: 0.25em;\n",
       "  box-sizing: border-box;\n",
       "  margin-bottom: 0.5em;\n",
       "  /* unfitted */\n",
       "  background-color: var(--sklearn-color-unfitted-level-0);\n",
       "}\n",
       "\n",
       "#sk-container-id-3 div.sk-estimator.fitted {\n",
       "  /* fitted */\n",
       "  background-color: var(--sklearn-color-fitted-level-0);\n",
       "}\n",
       "\n",
       "/* on hover */\n",
       "#sk-container-id-3 div.sk-estimator:hover {\n",
       "  /* unfitted */\n",
       "  background-color: var(--sklearn-color-unfitted-level-2);\n",
       "}\n",
       "\n",
       "#sk-container-id-3 div.sk-estimator.fitted:hover {\n",
       "  /* fitted */\n",
       "  background-color: var(--sklearn-color-fitted-level-2);\n",
       "}\n",
       "\n",
       "/* Specification for estimator info (e.g. \"i\" and \"?\") */\n",
       "\n",
       "/* Common style for \"i\" and \"?\" */\n",
       "\n",
       ".sk-estimator-doc-link,\n",
       "a:link.sk-estimator-doc-link,\n",
       "a:visited.sk-estimator-doc-link {\n",
       "  float: right;\n",
       "  font-size: smaller;\n",
       "  line-height: 1em;\n",
       "  font-family: monospace;\n",
       "  background-color: var(--sklearn-color-background);\n",
       "  border-radius: 1em;\n",
       "  height: 1em;\n",
       "  width: 1em;\n",
       "  text-decoration: none !important;\n",
       "  margin-left: 0.5em;\n",
       "  text-align: center;\n",
       "  /* unfitted */\n",
       "  border: var(--sklearn-color-unfitted-level-1) 1pt solid;\n",
       "  color: var(--sklearn-color-unfitted-level-1);\n",
       "}\n",
       "\n",
       ".sk-estimator-doc-link.fitted,\n",
       "a:link.sk-estimator-doc-link.fitted,\n",
       "a:visited.sk-estimator-doc-link.fitted {\n",
       "  /* fitted */\n",
       "  border: var(--sklearn-color-fitted-level-1) 1pt solid;\n",
       "  color: var(--sklearn-color-fitted-level-1);\n",
       "}\n",
       "\n",
       "/* On hover */\n",
       "div.sk-estimator:hover .sk-estimator-doc-link:hover,\n",
       ".sk-estimator-doc-link:hover,\n",
       "div.sk-label-container:hover .sk-estimator-doc-link:hover,\n",
       ".sk-estimator-doc-link:hover {\n",
       "  /* unfitted */\n",
       "  background-color: var(--sklearn-color-unfitted-level-3);\n",
       "  color: var(--sklearn-color-background);\n",
       "  text-decoration: none;\n",
       "}\n",
       "\n",
       "div.sk-estimator.fitted:hover .sk-estimator-doc-link.fitted:hover,\n",
       ".sk-estimator-doc-link.fitted:hover,\n",
       "div.sk-label-container:hover .sk-estimator-doc-link.fitted:hover,\n",
       ".sk-estimator-doc-link.fitted:hover {\n",
       "  /* fitted */\n",
       "  background-color: var(--sklearn-color-fitted-level-3);\n",
       "  color: var(--sklearn-color-background);\n",
       "  text-decoration: none;\n",
       "}\n",
       "\n",
       "/* Span, style for the box shown on hovering the info icon */\n",
       ".sk-estimator-doc-link span {\n",
       "  display: none;\n",
       "  z-index: 9999;\n",
       "  position: relative;\n",
       "  font-weight: normal;\n",
       "  right: .2ex;\n",
       "  padding: .5ex;\n",
       "  margin: .5ex;\n",
       "  width: min-content;\n",
       "  min-width: 20ex;\n",
       "  max-width: 50ex;\n",
       "  color: var(--sklearn-color-text);\n",
       "  box-shadow: 2pt 2pt 4pt #999;\n",
       "  /* unfitted */\n",
       "  background: var(--sklearn-color-unfitted-level-0);\n",
       "  border: .5pt solid var(--sklearn-color-unfitted-level-3);\n",
       "}\n",
       "\n",
       ".sk-estimator-doc-link.fitted span {\n",
       "  /* fitted */\n",
       "  background: var(--sklearn-color-fitted-level-0);\n",
       "  border: var(--sklearn-color-fitted-level-3);\n",
       "}\n",
       "\n",
       ".sk-estimator-doc-link:hover span {\n",
       "  display: block;\n",
       "}\n",
       "\n",
       "/* \"?\"-specific style due to the `<a>` HTML tag */\n",
       "\n",
       "#sk-container-id-3 a.estimator_doc_link {\n",
       "  float: right;\n",
       "  font-size: 1rem;\n",
       "  line-height: 1em;\n",
       "  font-family: monospace;\n",
       "  background-color: var(--sklearn-color-background);\n",
       "  border-radius: 1rem;\n",
       "  height: 1rem;\n",
       "  width: 1rem;\n",
       "  text-decoration: none;\n",
       "  /* unfitted */\n",
       "  color: var(--sklearn-color-unfitted-level-1);\n",
       "  border: var(--sklearn-color-unfitted-level-1) 1pt solid;\n",
       "}\n",
       "\n",
       "#sk-container-id-3 a.estimator_doc_link.fitted {\n",
       "  /* fitted */\n",
       "  border: var(--sklearn-color-fitted-level-1) 1pt solid;\n",
       "  color: var(--sklearn-color-fitted-level-1);\n",
       "}\n",
       "\n",
       "/* On hover */\n",
       "#sk-container-id-3 a.estimator_doc_link:hover {\n",
       "  /* unfitted */\n",
       "  background-color: var(--sklearn-color-unfitted-level-3);\n",
       "  color: var(--sklearn-color-background);\n",
       "  text-decoration: none;\n",
       "}\n",
       "\n",
       "#sk-container-id-3 a.estimator_doc_link.fitted:hover {\n",
       "  /* fitted */\n",
       "  background-color: var(--sklearn-color-fitted-level-3);\n",
       "}\n",
       "\n",
       ".estimator-table summary {\n",
       "    padding: .5rem;\n",
       "    font-family: monospace;\n",
       "    cursor: pointer;\n",
       "}\n",
       "\n",
       ".estimator-table details[open] {\n",
       "    padding-left: 0.1rem;\n",
       "    padding-right: 0.1rem;\n",
       "    padding-bottom: 0.3rem;\n",
       "}\n",
       "\n",
       ".estimator-table .parameters-table {\n",
       "    margin-left: auto !important;\n",
       "    margin-right: auto !important;\n",
       "}\n",
       "\n",
       ".estimator-table .parameters-table tr:nth-child(odd) {\n",
       "    background-color: #fff;\n",
       "}\n",
       "\n",
       ".estimator-table .parameters-table tr:nth-child(even) {\n",
       "    background-color: #f6f6f6;\n",
       "}\n",
       "\n",
       ".estimator-table .parameters-table tr:hover {\n",
       "    background-color: #e0e0e0;\n",
       "}\n",
       "\n",
       ".estimator-table table td {\n",
       "    border: 1px solid rgba(106, 105, 104, 0.232);\n",
       "}\n",
       "\n",
       ".user-set td {\n",
       "    color:rgb(255, 94, 0);\n",
       "    text-align: left;\n",
       "}\n",
       "\n",
       ".user-set td.value pre {\n",
       "    color:rgb(255, 94, 0) !important;\n",
       "    background-color: transparent !important;\n",
       "}\n",
       "\n",
       ".default td {\n",
       "    color: black;\n",
       "    text-align: left;\n",
       "}\n",
       "\n",
       ".user-set td i,\n",
       ".default td i {\n",
       "    color: black;\n",
       "}\n",
       "\n",
       ".copy-paste-icon {\n",
       "    background-image: url(data:image/svg+xml;base64,PHN2ZyB4bWxucz0iaHR0cDovL3d3dy53My5vcmcvMjAwMC9zdmciIHZpZXdCb3g9IjAgMCA0NDggNTEyIj48IS0tIUZvbnQgQXdlc29tZSBGcmVlIDYuNy4yIGJ5IEBmb250YXdlc29tZSAtIGh0dHBzOi8vZm9udGF3ZXNvbWUuY29tIExpY2Vuc2UgLSBodHRwczovL2ZvbnRhd2Vzb21lLmNvbS9saWNlbnNlL2ZyZWUgQ29weXJpZ2h0IDIwMjUgRm9udGljb25zLCBJbmMuLS0+PHBhdGggZD0iTTIwOCAwTDMzMi4xIDBjMTIuNyAwIDI0LjkgNS4xIDMzLjkgMTQuMWw2Ny45IDY3LjljOSA5IDE0LjEgMjEuMiAxNC4xIDMzLjlMNDQ4IDMzNmMwIDI2LjUtMjEuNSA0OC00OCA0OGwtMTkyIDBjLTI2LjUgMC00OC0yMS41LTQ4LTQ4bDAtMjg4YzAtMjYuNSAyMS41LTQ4IDQ4LTQ4ek00OCAxMjhsODAgMCAwIDY0LTY0IDAgMCAyNTYgMTkyIDAgMC0zMiA2NCAwIDAgNDhjMCAyNi41LTIxLjUgNDgtNDggNDhMNDggNTEyYy0yNi41IDAtNDgtMjEuNS00OC00OEwwIDE3NmMwLTI2LjUgMjEuNS00OCA0OC00OHoiLz48L3N2Zz4=);\n",
       "    background-repeat: no-repeat;\n",
       "    background-size: 14px 14px;\n",
       "    background-position: 0;\n",
       "    display: inline-block;\n",
       "    width: 14px;\n",
       "    height: 14px;\n",
       "    cursor: pointer;\n",
       "}\n",
       "</style><body><div id=\"sk-container-id-3\" class=\"sk-top-container\"><div class=\"sk-text-repr-fallback\"><pre>LinearRegression()</pre><b>In a Jupyter environment, please rerun this cell to show the HTML representation or trust the notebook. <br />On GitHub, the HTML representation is unable to render, please try loading this page with nbviewer.org.</b></div><div class=\"sk-container\" hidden><div class=\"sk-item\"><div class=\"sk-estimator fitted sk-toggleable\"><input class=\"sk-toggleable__control sk-hidden--visually\" id=\"sk-estimator-id-3\" type=\"checkbox\" checked><label for=\"sk-estimator-id-3\" class=\"sk-toggleable__label fitted sk-toggleable__label-arrow\"><div><div>LinearRegression</div></div><div><a class=\"sk-estimator-doc-link fitted\" rel=\"noreferrer\" target=\"_blank\" href=\"https://scikit-learn.org/1.7/modules/generated/sklearn.linear_model.LinearRegression.html\">?<span>Documentation for LinearRegression</span></a><span class=\"sk-estimator-doc-link fitted\">i<span>Fitted</span></span></div></label><div class=\"sk-toggleable__content fitted\" data-param-prefix=\"\">\n",
       "        <div class=\"estimator-table\">\n",
       "            <details>\n",
       "                <summary>Parameters</summary>\n",
       "                <table class=\"parameters-table\">\n",
       "                  <tbody>\n",
       "                    \n",
       "        <tr class=\"default\">\n",
       "            <td><i class=\"copy-paste-icon\"\n",
       "                 onclick=\"copyToClipboard('fit_intercept',\n",
       "                          this.parentElement.nextElementSibling)\"\n",
       "            ></i></td>\n",
       "            <td class=\"param\">fit_intercept&nbsp;</td>\n",
       "            <td class=\"value\">True</td>\n",
       "        </tr>\n",
       "    \n",
       "\n",
       "        <tr class=\"default\">\n",
       "            <td><i class=\"copy-paste-icon\"\n",
       "                 onclick=\"copyToClipboard('copy_X',\n",
       "                          this.parentElement.nextElementSibling)\"\n",
       "            ></i></td>\n",
       "            <td class=\"param\">copy_X&nbsp;</td>\n",
       "            <td class=\"value\">True</td>\n",
       "        </tr>\n",
       "    \n",
       "\n",
       "        <tr class=\"default\">\n",
       "            <td><i class=\"copy-paste-icon\"\n",
       "                 onclick=\"copyToClipboard('tol',\n",
       "                          this.parentElement.nextElementSibling)\"\n",
       "            ></i></td>\n",
       "            <td class=\"param\">tol&nbsp;</td>\n",
       "            <td class=\"value\">1e-06</td>\n",
       "        </tr>\n",
       "    \n",
       "\n",
       "        <tr class=\"default\">\n",
       "            <td><i class=\"copy-paste-icon\"\n",
       "                 onclick=\"copyToClipboard('n_jobs',\n",
       "                          this.parentElement.nextElementSibling)\"\n",
       "            ></i></td>\n",
       "            <td class=\"param\">n_jobs&nbsp;</td>\n",
       "            <td class=\"value\">None</td>\n",
       "        </tr>\n",
       "    \n",
       "\n",
       "        <tr class=\"default\">\n",
       "            <td><i class=\"copy-paste-icon\"\n",
       "                 onclick=\"copyToClipboard('positive',\n",
       "                          this.parentElement.nextElementSibling)\"\n",
       "            ></i></td>\n",
       "            <td class=\"param\">positive&nbsp;</td>\n",
       "            <td class=\"value\">False</td>\n",
       "        </tr>\n",
       "    \n",
       "                  </tbody>\n",
       "                </table>\n",
       "            </details>\n",
       "        </div>\n",
       "    </div></div></div></div></div><script>function copyToClipboard(text, element) {\n",
       "    // Get the parameter prefix from the closest toggleable content\n",
       "    const toggleableContent = element.closest('.sk-toggleable__content');\n",
       "    const paramPrefix = toggleableContent ? toggleableContent.dataset.paramPrefix : '';\n",
       "    const fullParamName = paramPrefix ? `${paramPrefix}${text}` : text;\n",
       "\n",
       "    const originalStyle = element.style;\n",
       "    const computedStyle = window.getComputedStyle(element);\n",
       "    const originalWidth = computedStyle.width;\n",
       "    const originalHTML = element.innerHTML.replace('Copied!', '');\n",
       "\n",
       "    navigator.clipboard.writeText(fullParamName)\n",
       "        .then(() => {\n",
       "            element.style.width = originalWidth;\n",
       "            element.style.color = 'green';\n",
       "            element.innerHTML = \"Copied!\";\n",
       "\n",
       "            setTimeout(() => {\n",
       "                element.innerHTML = originalHTML;\n",
       "                element.style = originalStyle;\n",
       "            }, 2000);\n",
       "        })\n",
       "        .catch(err => {\n",
       "            console.error('Failed to copy:', err);\n",
       "            element.style.color = 'red';\n",
       "            element.innerHTML = \"Failed!\";\n",
       "            setTimeout(() => {\n",
       "                element.innerHTML = originalHTML;\n",
       "                element.style = originalStyle;\n",
       "            }, 2000);\n",
       "        });\n",
       "    return false;\n",
       "}\n",
       "\n",
       "document.querySelectorAll('.fa-regular.fa-copy').forEach(function(element) {\n",
       "    const toggleableContent = element.closest('.sk-toggleable__content');\n",
       "    const paramPrefix = toggleableContent ? toggleableContent.dataset.paramPrefix : '';\n",
       "    const paramName = element.parentElement.nextElementSibling.textContent.trim();\n",
       "    const fullParamName = paramPrefix ? `${paramPrefix}${paramName}` : paramName;\n",
       "\n",
       "    element.setAttribute('title', fullParamName);\n",
       "});\n",
       "</script></body>"
      ],
      "text/plain": [
       "LinearRegression()"
      ]
     },
     "execution_count": 187,
     "metadata": {},
     "output_type": "execute_result"
    }
   ],
   "source": [
    "lr.fit(x_train, y_train)"
   ]
  },
  {
   "cell_type": "code",
   "execution_count": 188,
   "id": "ff24d5d7",
   "metadata": {},
   "outputs": [],
   "source": [
    "predslr = lr.predict(x_test)"
   ]
  },
  {
   "cell_type": "code",
   "execution_count": 189,
   "id": "bbfc2015",
   "metadata": {},
   "outputs": [
    {
     "data": {
      "text/plain": [
       "8232.464297129496"
      ]
     },
     "execution_count": 189,
     "metadata": {},
     "output_type": "execute_result"
    }
   ],
   "source": [
    "from sklearn.metrics import mean_absolute_error\n",
    "mean_absolute_error(predslr, y_test)"
   ]
  },
  {
   "cell_type": "code",
   "execution_count": 190,
   "id": "fcf3fe9e",
   "metadata": {},
   "outputs": [
    {
     "data": {
      "text/plain": [
       "['Linearmodel.pkl']"
      ]
     },
     "execution_count": 190,
     "metadata": {},
     "output_type": "execute_result"
    }
   ],
   "source": [
    "import joblib \n",
    "joblib.dump(lr, \"Linearmodel.pkl\")"
   ]
  },
  {
   "cell_type": "code",
   "execution_count": null,
   "id": "d8330462",
   "metadata": {},
   "outputs": [],
   "source": []
  }
 ],
 "metadata": {
  "kernelspec": {
   "display_name": "Python 3",
   "language": "python",
   "name": "python3"
  },
  "language_info": {
   "codemirror_mode": {
    "name": "ipython",
    "version": 3
   },
   "file_extension": ".py",
   "mimetype": "text/x-python",
   "name": "python",
   "nbconvert_exporter": "python",
   "pygments_lexer": "ipython3",
   "version": "3.13.1"
  }
 },
 "nbformat": 4,
 "nbformat_minor": 5
}
